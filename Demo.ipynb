{
 "cells": [
  {
   "cell_type": "code",
   "execution_count": 1,
   "metadata": {
    "colab": {
     "base_uri": "https://localhost:8080/"
    },
    "id": "mGewvH62sBv_",
    "outputId": "980ba505-185d-41f2-fa92-f18dc27229a4"
   },
   "outputs": [
    {
     "name": "stdout",
     "output_type": "stream",
     "text": [
      "Cloning into 'temp'...\n",
      "remote: Enumerating objects: 40, done.\u001b[K\n",
      "remote: Counting objects: 100% (40/40), done.\u001b[K\n",
      "remote: Compressing objects: 100% (26/26), done.\u001b[K\n",
      "remote: Total 399 (delta 20), reused 30 (delta 14), pack-reused 359\u001b[K\n",
      "Receiving objects: 100% (399/399), 5.66 MiB | 38.62 MiB/s, done.\n",
      "Resolving deltas: 100% (233/233), done.\n"
     ]
    }
   ],
   "source": [
    "!git clone https://github.com/polakowo/gpt2bot.git temp\n",
    "!cp -r temp/* .\n",
    "!rm -rf temp"
   ]
  },
  {
   "cell_type": "code",
   "execution_count": 2,
   "metadata": {
    "colab": {
     "base_uri": "https://localhost:8080/"
    },
    "id": "YHPZ74autU_R",
    "outputId": "5ee3703a-a400-4501-9038-bec187e08c5f"
   },
   "outputs": [
    {
     "name": "stdout",
     "output_type": "stream",
     "text": [
      "Requirement already satisfied: tensorflow>=2.4.0 in /usr/local/lib/python3.6/dist-packages (from -r requirements.txt (line 1)) (2.4.0)\n",
      "Requirement already satisfied: torch>=1.7.0 in /usr/local/lib/python3.6/dist-packages (from -r requirements.txt (line 2)) (1.7.0+cu101)\n",
      "Collecting transformers>=4.2.2\n",
      "\u001b[?25l  Downloading https://files.pythonhosted.org/packages/88/b1/41130a228dd656a1a31ba281598a968320283f48d42782845f6ba567f00b/transformers-4.2.2-py3-none-any.whl (1.8MB)\n",
      "\u001b[K     |████████████████████████████████| 1.8MB 8.0MB/s \n",
      "\u001b[?25hCollecting python-telegram-bot>=13.1\n",
      "\u001b[?25l  Downloading https://files.pythonhosted.org/packages/cc/b3/f363e9c5c2e4690a1fd352c01263eb2938952888c09d73c824b49d288dcc/python_telegram_bot-13.1-py3-none-any.whl (422kB)\n",
      "\u001b[K     |████████████████████████████████| 430kB 41.3MB/s \n",
      "\u001b[?25hRequirement already satisfied: tensorflow-estimator<2.5.0,>=2.4.0rc0 in /usr/local/lib/python3.6/dist-packages (from tensorflow>=2.4.0->-r requirements.txt (line 1)) (2.4.0)\n",
      "Requirement already satisfied: astunparse~=1.6.3 in /usr/local/lib/python3.6/dist-packages (from tensorflow>=2.4.0->-r requirements.txt (line 1)) (1.6.3)\n",
      "Requirement already satisfied: google-pasta~=0.2 in /usr/local/lib/python3.6/dist-packages (from tensorflow>=2.4.0->-r requirements.txt (line 1)) (0.2.0)\n",
      "Requirement already satisfied: opt-einsum~=3.3.0 in /usr/local/lib/python3.6/dist-packages (from tensorflow>=2.4.0->-r requirements.txt (line 1)) (3.3.0)\n",
      "Requirement already satisfied: grpcio~=1.32.0 in /usr/local/lib/python3.6/dist-packages (from tensorflow>=2.4.0->-r requirements.txt (line 1)) (1.32.0)\n",
      "Requirement already satisfied: termcolor~=1.1.0 in /usr/local/lib/python3.6/dist-packages (from tensorflow>=2.4.0->-r requirements.txt (line 1)) (1.1.0)\n",
      "Requirement already satisfied: h5py~=2.10.0 in /usr/local/lib/python3.6/dist-packages (from tensorflow>=2.4.0->-r requirements.txt (line 1)) (2.10.0)\n",
      "Requirement already satisfied: keras-preprocessing~=1.1.2 in /usr/local/lib/python3.6/dist-packages (from tensorflow>=2.4.0->-r requirements.txt (line 1)) (1.1.2)\n",
      "Requirement already satisfied: protobuf>=3.9.2 in /usr/local/lib/python3.6/dist-packages (from tensorflow>=2.4.0->-r requirements.txt (line 1)) (3.12.4)\n",
      "Requirement already satisfied: wrapt~=1.12.1 in /usr/local/lib/python3.6/dist-packages (from tensorflow>=2.4.0->-r requirements.txt (line 1)) (1.12.1)\n",
      "Requirement already satisfied: gast==0.3.3 in /usr/local/lib/python3.6/dist-packages (from tensorflow>=2.4.0->-r requirements.txt (line 1)) (0.3.3)\n",
      "Requirement already satisfied: typing-extensions~=3.7.4 in /usr/local/lib/python3.6/dist-packages (from tensorflow>=2.4.0->-r requirements.txt (line 1)) (3.7.4.3)\n",
      "Requirement already satisfied: wheel~=0.35 in /usr/local/lib/python3.6/dist-packages (from tensorflow>=2.4.0->-r requirements.txt (line 1)) (0.36.2)\n",
      "Requirement already satisfied: tensorboard~=2.4 in /usr/local/lib/python3.6/dist-packages (from tensorflow>=2.4.0->-r requirements.txt (line 1)) (2.4.0)\n",
      "Requirement already satisfied: flatbuffers~=1.12.0 in /usr/local/lib/python3.6/dist-packages (from tensorflow>=2.4.0->-r requirements.txt (line 1)) (1.12)\n",
      "Requirement already satisfied: absl-py~=0.10 in /usr/local/lib/python3.6/dist-packages (from tensorflow>=2.4.0->-r requirements.txt (line 1)) (0.10.0)\n",
      "Requirement already satisfied: numpy~=1.19.2 in /usr/local/lib/python3.6/dist-packages (from tensorflow>=2.4.0->-r requirements.txt (line 1)) (1.19.5)\n",
      "Requirement already satisfied: six~=1.15.0 in /usr/local/lib/python3.6/dist-packages (from tensorflow>=2.4.0->-r requirements.txt (line 1)) (1.15.0)\n",
      "Requirement already satisfied: dataclasses in /usr/local/lib/python3.6/dist-packages (from torch>=1.7.0->-r requirements.txt (line 2)) (0.8)\n",
      "Requirement already satisfied: future in /usr/local/lib/python3.6/dist-packages (from torch>=1.7.0->-r requirements.txt (line 2)) (0.16.0)\n",
      "Requirement already satisfied: packaging in /usr/local/lib/python3.6/dist-packages (from transformers>=4.2.2->-r requirements.txt (line 3)) (20.8)\n",
      "Requirement already satisfied: regex!=2019.12.17 in /usr/local/lib/python3.6/dist-packages (from transformers>=4.2.2->-r requirements.txt (line 3)) (2019.12.20)\n",
      "Requirement already satisfied: requests in /usr/local/lib/python3.6/dist-packages (from transformers>=4.2.2->-r requirements.txt (line 3)) (2.23.0)\n",
      "Collecting sacremoses\n",
      "\u001b[?25l  Downloading https://files.pythonhosted.org/packages/7d/34/09d19aff26edcc8eb2a01bed8e98f13a1537005d31e95233fd48216eed10/sacremoses-0.0.43.tar.gz (883kB)\n",
      "\u001b[K     |████████████████████████████████| 890kB 21.5MB/s \n",
      "\u001b[?25hRequirement already satisfied: tqdm>=4.27 in /usr/local/lib/python3.6/dist-packages (from transformers>=4.2.2->-r requirements.txt (line 3)) (4.41.1)\n",
      "Requirement already satisfied: filelock in /usr/local/lib/python3.6/dist-packages (from transformers>=4.2.2->-r requirements.txt (line 3)) (3.0.12)\n",
      "Collecting tokenizers==0.9.4\n",
      "\u001b[?25l  Downloading https://files.pythonhosted.org/packages/0f/1c/e789a8b12e28be5bc1ce2156cf87cb522b379be9cadc7ad8091a4cc107c4/tokenizers-0.9.4-cp36-cp36m-manylinux2010_x86_64.whl (2.9MB)\n",
      "\u001b[K     |████████████████████████████████| 2.9MB 56.2MB/s \n",
      "\u001b[?25hRequirement already satisfied: importlib-metadata; python_version < \"3.8\" in /usr/local/lib/python3.6/dist-packages (from transformers>=4.2.2->-r requirements.txt (line 3)) (3.3.0)\n",
      "Requirement already satisfied: tornado>=5.1 in /usr/local/lib/python3.6/dist-packages (from python-telegram-bot>=13.1->-r requirements.txt (line 4)) (5.1.1)\n",
      "Collecting cryptography\n",
      "\u001b[?25l  Downloading https://files.pythonhosted.org/packages/c9/de/7054df0620b5411ba45480f0261e1fb66a53f3db31b28e3aa52c026e72d9/cryptography-3.3.1-cp36-abi3-manylinux2010_x86_64.whl (2.6MB)\n",
      "\u001b[K     |████████████████████████████████| 2.6MB 56.9MB/s \n",
      "\u001b[?25hRequirement already satisfied: certifi in /usr/local/lib/python3.6/dist-packages (from python-telegram-bot>=13.1->-r requirements.txt (line 4)) (2020.12.5)\n",
      "Requirement already satisfied: pytz>=2018.6 in /usr/local/lib/python3.6/dist-packages (from python-telegram-bot>=13.1->-r requirements.txt (line 4)) (2018.9)\n",
      "Collecting APScheduler==3.6.3\n",
      "\u001b[?25l  Downloading https://files.pythonhosted.org/packages/f3/34/9ef20ed473c4fd2c3df54ef77a27ae3fc7500b16b192add4720cab8b2c09/APScheduler-3.6.3-py2.py3-none-any.whl (58kB)\n",
      "\u001b[K     |████████████████████████████████| 61kB 9.3MB/s \n",
      "\u001b[?25hRequirement already satisfied: decorator>=4.4.0 in /usr/local/lib/python3.6/dist-packages (from python-telegram-bot>=13.1->-r requirements.txt (line 4)) (4.4.2)\n",
      "Requirement already satisfied: setuptools in /usr/local/lib/python3.6/dist-packages (from protobuf>=3.9.2->tensorflow>=2.4.0->-r requirements.txt (line 1)) (51.3.3)\n",
      "Requirement already satisfied: werkzeug>=0.11.15 in /usr/local/lib/python3.6/dist-packages (from tensorboard~=2.4->tensorflow>=2.4.0->-r requirements.txt (line 1)) (1.0.1)\n",
      "Requirement already satisfied: markdown>=2.6.8 in /usr/local/lib/python3.6/dist-packages (from tensorboard~=2.4->tensorflow>=2.4.0->-r requirements.txt (line 1)) (3.3.3)\n",
      "Requirement already satisfied: google-auth<2,>=1.6.3 in /usr/local/lib/python3.6/dist-packages (from tensorboard~=2.4->tensorflow>=2.4.0->-r requirements.txt (line 1)) (1.17.2)\n",
      "Requirement already satisfied: google-auth-oauthlib<0.5,>=0.4.1 in /usr/local/lib/python3.6/dist-packages (from tensorboard~=2.4->tensorflow>=2.4.0->-r requirements.txt (line 1)) (0.4.2)\n",
      "Requirement already satisfied: tensorboard-plugin-wit>=1.6.0 in /usr/local/lib/python3.6/dist-packages (from tensorboard~=2.4->tensorflow>=2.4.0->-r requirements.txt (line 1)) (1.7.0)\n",
      "Requirement already satisfied: pyparsing>=2.0.2 in /usr/local/lib/python3.6/dist-packages (from packaging->transformers>=4.2.2->-r requirements.txt (line 3)) (2.4.7)\n",
      "Requirement already satisfied: urllib3!=1.25.0,!=1.25.1,<1.26,>=1.21.1 in /usr/local/lib/python3.6/dist-packages (from requests->transformers>=4.2.2->-r requirements.txt (line 3)) (1.24.3)\n",
      "Requirement already satisfied: idna<3,>=2.5 in /usr/local/lib/python3.6/dist-packages (from requests->transformers>=4.2.2->-r requirements.txt (line 3)) (2.10)\n",
      "Requirement already satisfied: chardet<4,>=3.0.2 in /usr/local/lib/python3.6/dist-packages (from requests->transformers>=4.2.2->-r requirements.txt (line 3)) (3.0.4)\n",
      "Requirement already satisfied: click in /usr/local/lib/python3.6/dist-packages (from sacremoses->transformers>=4.2.2->-r requirements.txt (line 3)) (7.1.2)\n",
      "Requirement already satisfied: joblib in /usr/local/lib/python3.6/dist-packages (from sacremoses->transformers>=4.2.2->-r requirements.txt (line 3)) (1.0.0)\n",
      "Requirement already satisfied: zipp>=0.5 in /usr/local/lib/python3.6/dist-packages (from importlib-metadata; python_version < \"3.8\"->transformers>=4.2.2->-r requirements.txt (line 3)) (3.4.0)\n",
      "Requirement already satisfied: cffi>=1.12 in /usr/local/lib/python3.6/dist-packages (from cryptography->python-telegram-bot>=13.1->-r requirements.txt (line 4)) (1.14.4)\n",
      "Requirement already satisfied: tzlocal>=1.2 in /usr/local/lib/python3.6/dist-packages (from APScheduler==3.6.3->python-telegram-bot>=13.1->-r requirements.txt (line 4)) (1.5.1)\n",
      "Requirement already satisfied: pyasn1-modules>=0.2.1 in /usr/local/lib/python3.6/dist-packages (from google-auth<2,>=1.6.3->tensorboard~=2.4->tensorflow>=2.4.0->-r requirements.txt (line 1)) (0.2.8)\n",
      "Requirement already satisfied: rsa<5,>=3.1.4; python_version >= \"3\" in /usr/local/lib/python3.6/dist-packages (from google-auth<2,>=1.6.3->tensorboard~=2.4->tensorflow>=2.4.0->-r requirements.txt (line 1)) (4.6)\n",
      "Requirement already satisfied: cachetools<5.0,>=2.0.0 in /usr/local/lib/python3.6/dist-packages (from google-auth<2,>=1.6.3->tensorboard~=2.4->tensorflow>=2.4.0->-r requirements.txt (line 1)) (4.2.0)\n",
      "Requirement already satisfied: requests-oauthlib>=0.7.0 in /usr/local/lib/python3.6/dist-packages (from google-auth-oauthlib<0.5,>=0.4.1->tensorboard~=2.4->tensorflow>=2.4.0->-r requirements.txt (line 1)) (1.3.0)\n",
      "Requirement already satisfied: pycparser in /usr/local/lib/python3.6/dist-packages (from cffi>=1.12->cryptography->python-telegram-bot>=13.1->-r requirements.txt (line 4)) (2.20)\n",
      "Requirement already satisfied: pyasn1<0.5.0,>=0.4.6 in /usr/local/lib/python3.6/dist-packages (from pyasn1-modules>=0.2.1->google-auth<2,>=1.6.3->tensorboard~=2.4->tensorflow>=2.4.0->-r requirements.txt (line 1)) (0.4.8)\n",
      "Requirement already satisfied: oauthlib>=3.0.0 in /usr/local/lib/python3.6/dist-packages (from requests-oauthlib>=0.7.0->google-auth-oauthlib<0.5,>=0.4.1->tensorboard~=2.4->tensorflow>=2.4.0->-r requirements.txt (line 1)) (3.1.0)\n",
      "Building wheels for collected packages: sacremoses\n",
      "  Building wheel for sacremoses (setup.py) ... \u001b[?25l\u001b[?25hdone\n",
      "  Created wheel for sacremoses: filename=sacremoses-0.0.43-cp36-none-any.whl size=893261 sha256=976d14430147bda847ac815d1f1b10c5e385386c97ac43550373d2ae431307d4\n",
      "  Stored in directory: /root/.cache/pip/wheels/29/3c/fd/7ce5c3f0666dab31a50123635e6fb5e19ceb42ce38d4e58f45\n",
      "Successfully built sacremoses\n",
      "Installing collected packages: sacremoses, tokenizers, transformers, cryptography, APScheduler, python-telegram-bot\n",
      "Successfully installed APScheduler-3.6.3 cryptography-3.3.1 python-telegram-bot-13.1 sacremoses-0.0.43 tokenizers-0.9.4 transformers-4.2.2\n"
     ]
    }
   ],
   "source": [
    "!pip install -r requirements.txt"
   ]
  },
  {
   "cell_type": "markdown",
   "metadata": {
    "id": "zY1PPfYRbG0j"
   },
   "source": [
    "Run the following cell and restart the runtime if you get any warnings above."
   ]
  },
  {
   "cell_type": "code",
   "execution_count": null,
   "metadata": {
    "colab": {
     "base_uri": "https://localhost:8080/",
     "height": 704
    },
    "id": "u7_FYEt-a_GB",
    "outputId": "b0424867-3d81-4d3e-a675-ed4cd5396bbd"
   },
   "outputs": [
    {
     "name": "stdout",
     "output_type": "stream",
     "text": [
      "Collecting ipykernel\n",
      "\u001b[?25l  Downloading https://files.pythonhosted.org/packages/e1/92/8fec943b5b81078399f969f00557804d884c96fcd0bc296e81a2ed4fd270/ipykernel-5.1.3-py3-none-any.whl (116kB)\n",
      "\u001b[K     |████████████████████████████████| 122kB 8.4MB/s eta 0:00:01\n",
      "\u001b[?25hRequirement already satisfied, skipping upgrade: traitlets>=4.1.0 in /usr/local/lib/python3.6/dist-packages (from ipykernel) (4.3.3)\n",
      "Requirement already satisfied, skipping upgrade: tornado>=4.2 in /usr/local/lib/python3.6/dist-packages (from ipykernel) (6.0.3)\n",
      "Requirement already satisfied, skipping upgrade: jupyter-client in /usr/local/lib/python3.6/dist-packages (from ipykernel) (5.3.4)\n",
      "Requirement already satisfied, skipping upgrade: ipython>=5.0.0 in /usr/local/lib/python3.6/dist-packages (from ipykernel) (5.5.0)\n",
      "Requirement already satisfied, skipping upgrade: ipython-genutils in /usr/local/lib/python3.6/dist-packages (from traitlets>=4.1.0->ipykernel) (0.2.0)\n",
      "Requirement already satisfied, skipping upgrade: six in /usr/local/lib/python3.6/dist-packages (from traitlets>=4.1.0->ipykernel) (1.12.0)\n",
      "Requirement already satisfied, skipping upgrade: decorator in /usr/local/lib/python3.6/dist-packages (from traitlets>=4.1.0->ipykernel) (4.4.1)\n",
      "Requirement already satisfied, skipping upgrade: jupyter-core>=4.6.0 in /usr/local/lib/python3.6/dist-packages (from jupyter-client->ipykernel) (4.6.1)\n",
      "Requirement already satisfied, skipping upgrade: pyzmq>=13 in /usr/local/lib/python3.6/dist-packages (from jupyter-client->ipykernel) (17.0.0)\n",
      "Requirement already satisfied, skipping upgrade: python-dateutil>=2.1 in /usr/local/lib/python3.6/dist-packages (from jupyter-client->ipykernel) (2.6.1)\n",
      "Requirement already satisfied, skipping upgrade: prompt-toolkit<2.0.0,>=1.0.4 in /usr/local/lib/python3.6/dist-packages (from ipython>=5.0.0->ipykernel) (1.0.18)\n",
      "Requirement already satisfied, skipping upgrade: simplegeneric>0.8 in /usr/local/lib/python3.6/dist-packages (from ipython>=5.0.0->ipykernel) (0.8.1)\n",
      "Requirement already satisfied, skipping upgrade: pexpect; sys_platform != \"win32\" in /usr/local/lib/python3.6/dist-packages (from ipython>=5.0.0->ipykernel) (4.7.0)\n",
      "Requirement already satisfied, skipping upgrade: pickleshare in /usr/local/lib/python3.6/dist-packages (from ipython>=5.0.0->ipykernel) (0.7.5)\n",
      "Requirement already satisfied, skipping upgrade: setuptools>=18.5 in /usr/local/lib/python3.6/dist-packages (from ipython>=5.0.0->ipykernel) (42.0.2)\n",
      "Requirement already satisfied, skipping upgrade: pygments in /usr/local/lib/python3.6/dist-packages (from ipython>=5.0.0->ipykernel) (2.1.3)\n",
      "Requirement already satisfied, skipping upgrade: wcwidth in /usr/local/lib/python3.6/dist-packages (from prompt-toolkit<2.0.0,>=1.0.4->ipython>=5.0.0->ipykernel) (0.1.8)\n",
      "Requirement already satisfied, skipping upgrade: ptyprocess>=0.5 in /usr/local/lib/python3.6/dist-packages (from pexpect; sys_platform != \"win32\"->ipython>=5.0.0->ipykernel) (0.6.0)\n",
      "\u001b[31mERROR: google-colab 1.0.0 has requirement ipykernel~=4.6.0, but you'll have ipykernel 5.1.3 which is incompatible.\u001b[0m\n",
      "\u001b[31mERROR: google-colab 1.0.0 has requirement tornado~=4.5.0, but you'll have tornado 6.0.3 which is incompatible.\u001b[0m\n",
      "Installing collected packages: ipykernel\n",
      "  Found existing installation: ipykernel 4.6.1\n",
      "    Uninstalling ipykernel-4.6.1:\n",
      "      Successfully uninstalled ipykernel-4.6.1\n",
      "Successfully installed ipykernel-5.1.3\n"
     ]
    },
    {
     "data": {
      "application/vnd.colab-display-data+json": {
       "pip_warning": {
        "packages": [
         "ipykernel"
        ]
       }
      }
     },
     "metadata": {
      "tags": []
     },
     "output_type": "display_data"
    }
   ],
   "source": [
    "!pip install -U ipykernel"
   ]
  },
  {
   "cell_type": "markdown",
   "metadata": {
    "id": "yS4rSjXUq9m-"
   },
   "source": [
    "Run the Telegram bot."
   ]
  },
  {
   "cell_type": "code",
   "execution_count": 4,
   "metadata": {
    "colab": {
     "base_uri": "https://localhost:8080/"
    },
    "id": "8B7KHIGCw9c_",
    "outputId": "bf9974d2-462a-4af5-88ea-70f46c2865cc"
   },
   "outputs": [
    {
     "name": "stderr",
     "output_type": "stream",
     "text": [
      "\u001b[1;32mParsing the config...\u001b[0m\n"
     ]
    },
    {
     "data": {
      "text/plain": [
       "{'chatbot_params': {'giphy_max_words': 3,\n",
       "  'giphy_prob': 0.1,\n",
       "  'giphy_token': 'YOUR_TOKEN_HERE',\n",
       "  'giphy_weirdness': 5,\n",
       "  'max_turns_history': 2,\n",
       "  'telegram_token': 'YOUR_TOKEN_HERE'},\n",
       " 'cond_ranker_weights': {'depth_weight': 0.48,\n",
       "  'updown_weight': 1.0,\n",
       "  'width_weight': -0.45},\n",
       " 'debug': False,\n",
       " 'device': 0,\n",
       " 'generation_pipeline_kwargs': {'config': None,\n",
       "  'framework': None,\n",
       "  'model': 'microsoft/DialoGPT-large',\n",
       "  'tokenizer': None},\n",
       " 'generator_kwargs': {'bad_words_ids': None,\n",
       "  'bos_token_id': None,\n",
       "  'clean_up_tokenization_spaces': True,\n",
       "  'decoder_start_token_id': None,\n",
       "  'do_sample': True,\n",
       "  'early_stopping': False,\n",
       "  'eos_token_id': None,\n",
       "  'length_penalty': 1.0,\n",
       "  'max_length': 128,\n",
       "  'min_length': 1,\n",
       "  'no_repeat_ngram_size': 0,\n",
       "  'num_beams': 1,\n",
       "  'num_return_sequences': 16,\n",
       "  'pad_token_id': None,\n",
       "  'repetition_penalty': 1.0,\n",
       "  'temperature': 0.7,\n",
       "  'top_k': 40,\n",
       "  'top_p': 1.0,\n",
       "  'use_cache': True},\n",
       " 'prior_ranker_weights': {'human_vs_machine_weight': 0.5,\n",
       "  'human_vs_rand_weight': 0.5},\n",
       " 'seed': None}"
      ]
     },
     "execution_count": 4,
     "metadata": {
      "tags": []
     },
     "output_type": "execute_result"
    }
   ],
   "source": [
    "from gpt2bot.utils import parse_config\n",
    "\n",
    "config = parse_config('chatbot-colab.cfg')\n",
    "config"
   ]
  },
  {
   "cell_type": "code",
   "execution_count": 6,
   "metadata": {
    "id": "RmnarYPGTJQ2"
   },
   "outputs": [],
   "source": [
    "config['chatbot_params']['telegram_token'] = 'YOUR_TOKEN_HERE'\n",
    "config['chatbot_params']['giphy_token'] = 'YOUR_TOKEN_HERE'"
   ]
  },
  {
   "cell_type": "code",
   "execution_count": 7,
   "metadata": {
    "colab": {
     "base_uri": "https://localhost:8080/",
     "height": 1000,
     "referenced_widgets": [
      "8b800bd244394ac5995cccfc64f89aab",
      "1d274736f850485b94d3bb61af1151ee",
      "4bb84e26519940ce8fa74dd99d0412c6",
      "4250c37a1c0045048e71dc34882ed213",
      "8ff020c556ee4431b3b35faafd3e0ddb",
      "7b2d87f8af6b4ab0806531d7ec6a6237",
      "d5666291fdab40e6aedfde2c35bab336",
      "d5736ff59eb445158b66638e160158d5",
      "72249ece7c52483d83aae2a3c566eb91",
      "babe601a579c4d998bf51b349f681419",
      "eb00bad53aac498ea4f73332f7758a41",
      "6feca2a24c2543ffa5f5f5f48f74734c",
      "9e241df8582d467589e1b40fcea1f219",
      "672ad0221b4644188db62fe3eb6f35df",
      "cc00866581ec4370bdad90713ed21964",
      "c8e181db6e2248b6a0adff24c972708e",
      "58a0623f831e4f98aef1dd861ec73f62",
      "747105d61d204de2980de3649cc50d99",
      "9e89e90d8fb647988c491ac687982f98",
      "dddb197276874190b6db8c442ca2e411",
      "fdabaadd95d842098f9a0376af325468",
      "4a32c724c81840188ca4a638af64406e",
      "93951b70291842d59abdb88ab2b585f9",
      "4a11166fff8e4b5f92f0596bfb2150ae",
      "38b7bd4e33ff4ddf932879062761e989",
      "48d496ac945e444ab7d321fc7064e69d",
      "599942728b0846c3940080d0b9f7ef17",
      "5c462fd49c784facb2e9d590c33f8371",
      "b441d1cb68a74188966e9e8ca08054f0",
      "3bac9a57bfd442f7a0d797b8b05346af",
      "47032d5d058d4a2d95cce3768fecc6e6",
      "56f3a78e072441e09b69f023a06edd16",
      "5a7472bddd0f49a488ba8202ad17734e",
      "60d86e6896124d5794cc76851e1775ef",
      "f323a2944b8242b7a912a630c8458b83",
      "ffd66f934d0c45f58984dd80d9b3f122",
      "2b529deeb8864377a8fb20d2df43a32f",
      "e477ebe811354b738a86b9e9c21059e6",
      "438d10359e0b42419abee6d15184f109",
      "39d48b8a9f9b4534a0f6a19d411c5bfa",
      "a43f7edc0907472e8378aacb123662ba",
      "e79016024a034ed997f3f5fa4e3515b6",
      "97f8a8f9fcbd491aa6a5d6f31b6a4f36",
      "e466fc3caba64ca9ac92d29a47e6455b",
      "71e954c6c2a04c778fd8c7cb4bdeec72",
      "784c7756deac4435aa4f139c31844724",
      "7f32f0bd9e254370b25957aa4fc88342",
      "e0c6a6890cfd460d87a5c96da7b3bc29",
      "dae2cd21b296437ab9d442afebbacddc",
      "053085e0822946a184bd44aa9545a084",
      "e9d9e0874f5a400fb3b5a7253ce88458",
      "a6eced284fe24c9b920e1e52458a3d92",
      "5cd54b419770434ba8e9939fd09d50fa",
      "c2adfb7ea31046b39c12b99b7b21ff4e",
      "d429874a35644675b5e90f074feb4673",
      "977f6b9a832a4a2d8b92c46196e91369",
      "cbc731103aca4b008c17aee18839801b",
      "191e323bb2ef46ab8994d27195047c45",
      "33b38ec550544c799280704003714f9b",
      "b5cca5dcea87499d98c47920a09130d8",
      "0a1a14ea73e6484f9a196a554c75bef7",
      "4871231c7b56453694760da444a7e284",
      "8f54d045a86d4c1696ce47c10363aab6",
      "639e7914c4e2428bb52d41cbbeacb1b0",
      "a63e18a4171d4511b5b4ab6af4198aa8",
      "3475df7cd09e429d872ed3cb20f7b5af",
      "0705c52601db414e829a9acb2d7af587",
      "7eb238c91c0c4313b358f34311f9f493",
      "00c53aa519d84caca045e3e53b5e6eb2",
      "99300acd624742dba9e8137a069080f1",
      "99bb284d397e4dce8f28b8c910e9f941",
      "45124f956e9c4bfc9d8713b337b97a3c",
      "91095ac6f6694bf9b67a3d120294dcf0",
      "331c566bd4494f468fc703740dc31656",
      "6273c365d3e149a39314b00c13b7e0ab",
      "bd791848fc5a4cd68293990deb52b40d",
      "f567caf682d14ad0ad34d4b26092140e",
      "97b5d4511bf5408583bb4f1c8a6f8028",
      "1c13c2c01fbd4e5f880980dd5e01a022",
      "66a292907d2e4976b6c397d27c67754a",
      "3d08f1d5e64244048a95a468cfaaaddd",
      "45f36f430a5d4ff1958eff0a1c581027",
      "801d9c7fc38440b2b7bd6a183831f6d7",
      "f055a9e62e9d4e15a32c2d8a05c36257",
      "f115211f6bc243fd9565d4f4abb16904",
      "cf0ba0ec8fb94641bcfec7d666650f64",
      "60b8302560e0484ebe9f41eab5d31fcd",
      "429c635def2240d3968f70174bd389b6",
      "c6406d0e7f464100ad5527017dd731b6",
      "15a0a0e11908483b882764da3686d5c3",
      "1e08db87c94447bcb5b9679a6fe6b6c2",
      "a7bd7cb45e1b4f52a7936df7b551e091",
      "5c3fafa4bdb840f6a889c9409d1fff58",
      "73f371e0af104a34b71b044fa08ed597",
      "2c6c0ad23dae4dee8fce4a4047215b06",
      "0ce9a041c1e64eeaa8570824cb8a93f5",
      "daba2f5259764f26a28e2a76e6224217",
      "16e533e9b03e4c9fbfc6f5b89b93821e",
      "f0f04ec0a0384b02ac5ba90b4655f36f",
      "24dde3ded41947cca593da301e90e432",
      "69a05b967aa7491285b090e2c9c64319",
      "90686b3a44794520add99df137300f93",
      "88ed0d0cb5b343068de83190cb16db51",
      "d5c3491c745c41de88ebb51e1a4f35ad",
      "07f5688252f44107ab003a6e9c58c31c",
      "d87b1fcfb7624f2d81d608bca965aee7",
      "ab694bda2ed64619b9fa55837054fee4",
      "f6d486f2c70942e38db523dfc153a53b",
      "0387fbc14bf14a3aa0d122e516f5bf7a",
      "0a127cda746647d796207cb95aa2bf93",
      "b92a2ad6d5464e9ca602923787aae260",
      "a3c47b19596748d3b7f62d1842d80967",
      "95d95883a34b48ed8342f7c9da413eb0",
      "0b33eea686b648fca259a9c0648b4370",
      "3fff0fe91ae54f10b20ccf76ce5e7719",
      "4635d4206bb04681bc9b6cd1218ebaaa",
      "9324ea7fa2704551990eea18e797c013",
      "f59984b9d9074f0db78f3324071cb1f5",
      "d83f4f2d6de841a59f22060be84918df",
      "301cd63163bc48ec952d9b1b9c6c8ced",
      "c7f51b7e5a314699a7b226e150d1af74",
      "c8968158b2464801bc519b33c444fc08",
      "80b0192a2909474782920b04759149e9",
      "75cdc6180a814793a50e4ae58322bcf2",
      "e4a239418ce8489d99c457864148fc39",
      "3462dcf6b3214671b14a220d6ecf6f0f",
      "08306a02c65a4cbfa2d4ec4997cd5b0e",
      "2bcd64d0c96e4845bac1b432cff43a9d",
      "b5cc23fc64c84de8a229c8f4427a70b7",
      "8bf91e8a44f94c30abfa2b0805d7cc2a",
      "27d4533e462347089748d18159ca4248",
      "9c467653a9ec4d608e23187bf25c0ff8",
      "cd93108348864a6e951747a7d51375b0",
      "ed6a9a16058d4250b1daf193b96f98df",
      "115401eae2394a578870536cbf10691f",
      "ae736771a53e442184f1ed45bb7da430",
      "af2c554ccdf240b98dabec81c3e4c801",
      "181077d447ed467b9f91ce48a1c66076",
      "cbb40256a44e44ab9af10286eb0c6af2",
      "cbbc6063e10b47be9ea235554c9db74a",
      "40e3b80cfd284dd090fd803fb4d1d3e8",
      "3d20773c00e84a29ae067b96f4e6dc8d",
      "9b8cc3e3904f4c55b21d510b7398c1a8",
      "b2ff0ec98db44391acb80ffd28a4625a",
      "232e6894355145ff8652266a99659b30",
      "f9dc1bc22e7c4ec3b5843ade1a1298d5",
      "ab36bc774c684b97ada6500245b54c49",
      "594709191e4b48c7915a35dcee27c334",
      "a6aa2711c51147fabff2dd0a89b8e25f",
      "2457f72c99a24286bb97e036884e6cac",
      "539403141cb84f2288c3117a3fcbc102",
      "8b20848828044e57a3e6ac1859b4ee02",
      "b0f537b0032c4daba9a0fb8e171ac6ad",
      "7358ef1002d8472cb40941909b28fe8e",
      "c55fc1b037324a1fa182ea67e81bca38",
      "0896b1dfce8d4a26b445e8d8c57c97b0",
      "22d9f94cab61482495a63a9c8d437a27",
      "eb41a8f7f0514a66b9d38b1daac56f29",
      "139e9d3a721a4e9e983fe163fbe4367d",
      "b8f98e2e881c49ceae39cce8de94f194",
      "eb5b75f31ecd40f0ad0e27df4137f152",
      "e01f01d32cc448d0bb6cbf2e0faf2f79",
      "c25de00c917d4ceea798e5a245f0abf8",
      "d646b8b49a044618aec1d885119b3e53",
      "e9379e286a594ec3aeed0096c54319e5",
      "aad8a741351f4f70985104b8fa413226",
      "2f9dc0c2dbfa48708003cd519f530eaa",
      "a4258edc997d41b9b90f88c1b5c2afea",
      "add0303d0e32478cb212272e190fd26b",
      "1ace781e8d674f75ae8a6824ebd78218",
      "abcc22d1de12474882476a2fdc75caa6",
      "7144d19a85674ed9a65c3722cdff0a7c",
      "e50e49d29c4d4769a2c2a9ebc470cf33",
      "a6b90211041d4171bfcdb58875e2e55e",
      "3ac7d5c3e47141168689ff47ae9f74c2",
      "7e2bcf777665450cbf9766abca143933",
      "1f1acf8720a44a99888e8d6c7d12797d",
      "75d0cb6405b84a10b0823c24a10d6dff",
      "b311e4cc3b7f4e24b3195850a1becc2f",
      "61ed1e3c18ee4a888feb5ec8177e57ab",
      "a3671a39a4b44e828b5c746bfc871bd4",
      "abc04d0164b940efa9828e0e1b6b820b",
      "83e9ac62899d4482b990a939328daa62",
      "8041082164824a6d8360427cc7395817",
      "bffe79c2126a43c7bce197ed908bebed",
      "ac5bfa31a85a44769ca5c53822ca63fc",
      "21db96411d484eff8006f74cf3f214f2",
      "43e4246eecf44bea929a2cc8c569eaee",
      "e85de5a1fc994f908393abadc9399192",
      "e119de57d67647429d117b79e044e127",
      "1741f953b63542beb8624223b1a56056",
      "08d773da20724eef83b77e84f590ba02",
      "9d1a4144143b49ca90e6d49474ce54d2",
      "886b5be5fa624b05bd7b9e4ebc0f096b",
      "b8784c814e8d42fda873f8b88200c7a8",
      "ffe0972b9cc246e182c6c543ec6e9649",
      "fb867f351d7c41daafc03ef79bfe5fae",
      "5edd11d677e9469e8819a65061d95193",
      "b27bb24fa2b94d7ca28e4ff704ce1604",
      "f87743eb318944fca8ea6641326eb98a",
      "9990776008f54f48a6eb546a917db48d",
      "dfd7a280686649958e7f5bb4a0943803",
      "d37f3100382744408be7825f4fbcf335",
      "5868b9d95efd413d8db3ad65ed2b994b",
      "36b3111ca7fe427ab158cad9f9e82c40",
      "afb8b89dda8a4b6981d90d0bc3e51923",
      "210b24527cd641a784a45f90f2c3e82e",
      "32949b2a3c294e83aa0b09bda5568e5f",
      "b4bed3afc46040e1ba314045fef0caa3",
      "4c4c8759f6034c4782140d410e815724",
      "d996b236b216431fa0d11bc0852b6ffd",
      "c3d01397ee814862a2c2ee421f141e53",
      "f998fd17332045b195224e3c9b7337de",
      "4205dc6a6e5e4d358c8426108c28797b",
      "eb39d80d041b4a04bb6452e4b0778618",
      "f7bf2969d0784aa996c0afb2c0b65c06",
      "6c71ca5cd6314655891ab5a87f2fff4c",
      "a7b97d04d64c45318c8124ce0a3cfd79",
      "cd2d547387ae464fb7d7ca146b227fd5",
      "0f3642165aae49bca5106230c19ab412",
      "6a2017c577374de08b5157273b4e8953",
      "3867f6cd1f4d49feaa8d4dc4fb3187be",
      "6d41c7db5de141a898207d7ef3f5c65d",
      "1b3c5896bf654955814d67ce297cb81d",
      "bfa1c669d7ea4995ad332b8710334d15",
      "c6d3bd5d9dc54205be79a5a8511e9d33",
      "943f890fb53847578f31426effb11281",
      "3d6872dab4fb4b6f879c9e079ca1a075",
      "d0d32d9a42f24d3e85833ed4d77c2c4c",
      "328cd7ccdac147c5833f12f83a29daf0",
      "b984c76797ac489d8592ac43b946e27a",
      "78432f1f15f444d881dfbd2fb299e451"
     ]
    },
    "id": "5AcaOYfkh3dz",
    "outputId": "bf069e75-8255-4647-8085-53fe509ab78c"
   },
   "outputs": [
    {
     "name": "stderr",
     "output_type": "stream",
     "text": [
      "\u001b[1;32mLoading the pipeline 'microsoft/DialoGPT-large'...\u001b[0m\n"
     ]
    },
    {
     "data": {
      "application/vnd.jupyter.widget-view+json": {
       "model_id": "8b800bd244394ac5995cccfc64f89aab",
       "version_major": 2,
       "version_minor": 0
      },
      "text/plain": [
       "HBox(children=(FloatProgress(value=0.0, description='Downloading', max=642.0, style=ProgressStyle(description_…"
      ]
     },
     "metadata": {
      "tags": []
     },
     "output_type": "display_data"
    },
    {
     "name": "stdout",
     "output_type": "stream",
     "text": [
      "\n"
     ]
    },
    {
     "data": {
      "application/vnd.jupyter.widget-view+json": {
       "model_id": "72249ece7c52483d83aae2a3c566eb91",
       "version_major": 2,
       "version_minor": 0
      },
      "text/plain": [
       "HBox(children=(FloatProgress(value=0.0, description='Downloading', max=1752292117.0, style=ProgressStyle(descr…"
      ]
     },
     "metadata": {
      "tags": []
     },
     "output_type": "display_data"
    },
    {
     "name": "stdout",
     "output_type": "stream",
     "text": [
      "\n"
     ]
    },
    {
     "data": {
      "application/vnd.jupyter.widget-view+json": {
       "model_id": "58a0623f831e4f98aef1dd861ec73f62",
       "version_major": 2,
       "version_minor": 0
      },
      "text/plain": [
       "HBox(children=(FloatProgress(value=0.0, description='Downloading', max=1042301.0, style=ProgressStyle(descript…"
      ]
     },
     "metadata": {
      "tags": []
     },
     "output_type": "display_data"
    },
    {
     "name": "stdout",
     "output_type": "stream",
     "text": [
      "\n"
     ]
    },
    {
     "data": {
      "application/vnd.jupyter.widget-view+json": {
       "model_id": "38b7bd4e33ff4ddf932879062761e989",
       "version_major": 2,
       "version_minor": 0
      },
      "text/plain": [
       "HBox(children=(FloatProgress(value=0.0, description='Downloading', max=456318.0, style=ProgressStyle(descripti…"
      ]
     },
     "metadata": {
      "tags": []
     },
     "output_type": "display_data"
    },
    {
     "name": "stdout",
     "output_type": "stream",
     "text": [
      "\n"
     ]
    },
    {
     "name": "stderr",
     "output_type": "stream",
     "text": [
      "\u001b[1;32mLoading the pipeline 'microsoft/DialogRPT-human-vs-rand'...\u001b[0m\n"
     ]
    },
    {
     "data": {
      "application/vnd.jupyter.widget-view+json": {
       "model_id": "5a7472bddd0f49a488ba8202ad17734e",
       "version_major": 2,
       "version_minor": 0
      },
      "text/plain": [
       "HBox(children=(FloatProgress(value=0.0, description='Downloading', max=812.0, style=ProgressStyle(description_…"
      ]
     },
     "metadata": {
      "tags": []
     },
     "output_type": "display_data"
    },
    {
     "name": "stdout",
     "output_type": "stream",
     "text": [
      "\n"
     ]
    },
    {
     "data": {
      "application/vnd.jupyter.widget-view+json": {
       "model_id": "a43f7edc0907472e8378aacb123662ba",
       "version_major": 2,
       "version_minor": 0
      },
      "text/plain": [
       "HBox(children=(FloatProgress(value=0.0, description='Downloading', max=1520029114.0, style=ProgressStyle(descr…"
      ]
     },
     "metadata": {
      "tags": []
     },
     "output_type": "display_data"
    },
    {
     "name": "stdout",
     "output_type": "stream",
     "text": [
      "\n"
     ]
    },
    {
     "data": {
      "application/vnd.jupyter.widget-view+json": {
       "model_id": "dae2cd21b296437ab9d442afebbacddc",
       "version_major": 2,
       "version_minor": 0
      },
      "text/plain": [
       "HBox(children=(FloatProgress(value=0.0, description='Downloading', max=1042301.0, style=ProgressStyle(descript…"
      ]
     },
     "metadata": {
      "tags": []
     },
     "output_type": "display_data"
    },
    {
     "name": "stdout",
     "output_type": "stream",
     "text": [
      "\n"
     ]
    },
    {
     "data": {
      "application/vnd.jupyter.widget-view+json": {
       "model_id": "cbc731103aca4b008c17aee18839801b",
       "version_major": 2,
       "version_minor": 0
      },
      "text/plain": [
       "HBox(children=(FloatProgress(value=0.0, description='Downloading', max=456318.0, style=ProgressStyle(descripti…"
      ]
     },
     "metadata": {
      "tags": []
     },
     "output_type": "display_data"
    },
    {
     "name": "stdout",
     "output_type": "stream",
     "text": [
      "\n"
     ]
    },
    {
     "data": {
      "application/vnd.jupyter.widget-view+json": {
       "model_id": "a63e18a4171d4511b5b4ab6af4198aa8",
       "version_major": 2,
       "version_minor": 0
      },
      "text/plain": [
       "HBox(children=(FloatProgress(value=0.0, description='Downloading', max=31.0, style=ProgressStyle(description_w…"
      ]
     },
     "metadata": {
      "tags": []
     },
     "output_type": "display_data"
    },
    {
     "name": "stdout",
     "output_type": "stream",
     "text": [
      "\n"
     ]
    },
    {
     "name": "stderr",
     "output_type": "stream",
     "text": [
      "\u001b[1;32mLoading the pipeline 'microsoft/DialogRPT-human-vs-machine'...\u001b[0m\n"
     ]
    },
    {
     "data": {
      "application/vnd.jupyter.widget-view+json": {
       "model_id": "91095ac6f6694bf9b67a3d120294dcf0",
       "version_major": 2,
       "version_minor": 0
      },
      "text/plain": [
       "HBox(children=(FloatProgress(value=0.0, description='Downloading', max=812.0, style=ProgressStyle(description_…"
      ]
     },
     "metadata": {
      "tags": []
     },
     "output_type": "display_data"
    },
    {
     "name": "stdout",
     "output_type": "stream",
     "text": [
      "\n"
     ]
    },
    {
     "data": {
      "application/vnd.jupyter.widget-view+json": {
       "model_id": "3d08f1d5e64244048a95a468cfaaaddd",
       "version_major": 2,
       "version_minor": 0
      },
      "text/plain": [
       "HBox(children=(FloatProgress(value=0.0, description='Downloading', max=1520029114.0, style=ProgressStyle(descr…"
      ]
     },
     "metadata": {
      "tags": []
     },
     "output_type": "display_data"
    },
    {
     "name": "stdout",
     "output_type": "stream",
     "text": [
      "\n"
     ]
    },
    {
     "data": {
      "application/vnd.jupyter.widget-view+json": {
       "model_id": "c6406d0e7f464100ad5527017dd731b6",
       "version_major": 2,
       "version_minor": 0
      },
      "text/plain": [
       "HBox(children=(FloatProgress(value=0.0, description='Downloading', max=1042301.0, style=ProgressStyle(descript…"
      ]
     },
     "metadata": {
      "tags": []
     },
     "output_type": "display_data"
    },
    {
     "name": "stdout",
     "output_type": "stream",
     "text": [
      "\n"
     ]
    },
    {
     "data": {
      "application/vnd.jupyter.widget-view+json": {
       "model_id": "daba2f5259764f26a28e2a76e6224217",
       "version_major": 2,
       "version_minor": 0
      },
      "text/plain": [
       "HBox(children=(FloatProgress(value=0.0, description='Downloading', max=456318.0, style=ProgressStyle(descripti…"
      ]
     },
     "metadata": {
      "tags": []
     },
     "output_type": "display_data"
    },
    {
     "name": "stdout",
     "output_type": "stream",
     "text": [
      "\n"
     ]
    },
    {
     "data": {
      "application/vnd.jupyter.widget-view+json": {
       "model_id": "07f5688252f44107ab003a6e9c58c31c",
       "version_major": 2,
       "version_minor": 0
      },
      "text/plain": [
       "HBox(children=(FloatProgress(value=0.0, description='Downloading', max=31.0, style=ProgressStyle(description_w…"
      ]
     },
     "metadata": {
      "tags": []
     },
     "output_type": "display_data"
    },
    {
     "name": "stdout",
     "output_type": "stream",
     "text": [
      "\n"
     ]
    },
    {
     "name": "stderr",
     "output_type": "stream",
     "text": [
      "\u001b[1;32mLoading the pipeline 'microsoft/DialogRPT-updown'...\u001b[0m\n"
     ]
    },
    {
     "data": {
      "application/vnd.jupyter.widget-view+json": {
       "model_id": "95d95883a34b48ed8342f7c9da413eb0",
       "version_major": 2,
       "version_minor": 0
      },
      "text/plain": [
       "HBox(children=(FloatProgress(value=0.0, description='Downloading', max=812.0, style=ProgressStyle(description_…"
      ]
     },
     "metadata": {
      "tags": []
     },
     "output_type": "display_data"
    },
    {
     "name": "stdout",
     "output_type": "stream",
     "text": [
      "\n"
     ]
    },
    {
     "data": {
      "application/vnd.jupyter.widget-view+json": {
       "model_id": "c7f51b7e5a314699a7b226e150d1af74",
       "version_major": 2,
       "version_minor": 0
      },
      "text/plain": [
       "HBox(children=(FloatProgress(value=0.0, description='Downloading', max=1520029114.0, style=ProgressStyle(descr…"
      ]
     },
     "metadata": {
      "tags": []
     },
     "output_type": "display_data"
    },
    {
     "name": "stdout",
     "output_type": "stream",
     "text": [
      "\n"
     ]
    },
    {
     "data": {
      "application/vnd.jupyter.widget-view+json": {
       "model_id": "b5cc23fc64c84de8a229c8f4427a70b7",
       "version_major": 2,
       "version_minor": 0
      },
      "text/plain": [
       "HBox(children=(FloatProgress(value=0.0, description='Downloading', max=1042301.0, style=ProgressStyle(descript…"
      ]
     },
     "metadata": {
      "tags": []
     },
     "output_type": "display_data"
    },
    {
     "name": "stdout",
     "output_type": "stream",
     "text": [
      "\n"
     ]
    },
    {
     "data": {
      "application/vnd.jupyter.widget-view+json": {
       "model_id": "af2c554ccdf240b98dabec81c3e4c801",
       "version_major": 2,
       "version_minor": 0
      },
      "text/plain": [
       "HBox(children=(FloatProgress(value=0.0, description='Downloading', max=456318.0, style=ProgressStyle(descripti…"
      ]
     },
     "metadata": {
      "tags": []
     },
     "output_type": "display_data"
    },
    {
     "name": "stdout",
     "output_type": "stream",
     "text": [
      "\n"
     ]
    },
    {
     "data": {
      "application/vnd.jupyter.widget-view+json": {
       "model_id": "232e6894355145ff8652266a99659b30",
       "version_major": 2,
       "version_minor": 0
      },
      "text/plain": [
       "HBox(children=(FloatProgress(value=0.0, description='Downloading', max=31.0, style=ProgressStyle(description_w…"
      ]
     },
     "metadata": {
      "tags": []
     },
     "output_type": "display_data"
    },
    {
     "name": "stdout",
     "output_type": "stream",
     "text": [
      "\n"
     ]
    },
    {
     "name": "stderr",
     "output_type": "stream",
     "text": [
      "\u001b[1;32mLoading the pipeline 'microsoft/DialogRPT-depth'...\u001b[0m\n"
     ]
    },
    {
     "data": {
      "application/vnd.jupyter.widget-view+json": {
       "model_id": "b0f537b0032c4daba9a0fb8e171ac6ad",
       "version_major": 2,
       "version_minor": 0
      },
      "text/plain": [
       "HBox(children=(FloatProgress(value=0.0, description='Downloading', max=812.0, style=ProgressStyle(description_…"
      ]
     },
     "metadata": {
      "tags": []
     },
     "output_type": "display_data"
    },
    {
     "name": "stdout",
     "output_type": "stream",
     "text": [
      "\n"
     ]
    },
    {
     "data": {
      "application/vnd.jupyter.widget-view+json": {
       "model_id": "eb5b75f31ecd40f0ad0e27df4137f152",
       "version_major": 2,
       "version_minor": 0
      },
      "text/plain": [
       "HBox(children=(FloatProgress(value=0.0, description='Downloading', max=1520029114.0, style=ProgressStyle(descr…"
      ]
     },
     "metadata": {
      "tags": []
     },
     "output_type": "display_data"
    },
    {
     "name": "stdout",
     "output_type": "stream",
     "text": [
      "\n"
     ]
    },
    {
     "data": {
      "application/vnd.jupyter.widget-view+json": {
       "model_id": "add0303d0e32478cb212272e190fd26b",
       "version_major": 2,
       "version_minor": 0
      },
      "text/plain": [
       "HBox(children=(FloatProgress(value=0.0, description='Downloading', max=1042301.0, style=ProgressStyle(descript…"
      ]
     },
     "metadata": {
      "tags": []
     },
     "output_type": "display_data"
    },
    {
     "name": "stdout",
     "output_type": "stream",
     "text": [
      "\n"
     ]
    },
    {
     "data": {
      "application/vnd.jupyter.widget-view+json": {
       "model_id": "1f1acf8720a44a99888e8d6c7d12797d",
       "version_major": 2,
       "version_minor": 0
      },
      "text/plain": [
       "HBox(children=(FloatProgress(value=0.0, description='Downloading', max=456318.0, style=ProgressStyle(descripti…"
      ]
     },
     "metadata": {
      "tags": []
     },
     "output_type": "display_data"
    },
    {
     "name": "stdout",
     "output_type": "stream",
     "text": [
      "\n"
     ]
    },
    {
     "data": {
      "application/vnd.jupyter.widget-view+json": {
       "model_id": "bffe79c2126a43c7bce197ed908bebed",
       "version_major": 2,
       "version_minor": 0
      },
      "text/plain": [
       "HBox(children=(FloatProgress(value=0.0, description='Downloading', max=31.0, style=ProgressStyle(description_w…"
      ]
     },
     "metadata": {
      "tags": []
     },
     "output_type": "display_data"
    },
    {
     "name": "stdout",
     "output_type": "stream",
     "text": [
      "\n"
     ]
    },
    {
     "name": "stderr",
     "output_type": "stream",
     "text": [
      "\u001b[1;32mLoading the pipeline 'microsoft/DialogRPT-width'...\u001b[0m\n"
     ]
    },
    {
     "data": {
      "application/vnd.jupyter.widget-view+json": {
       "model_id": "9d1a4144143b49ca90e6d49474ce54d2",
       "version_major": 2,
       "version_minor": 0
      },
      "text/plain": [
       "HBox(children=(FloatProgress(value=0.0, description='Downloading', max=812.0, style=ProgressStyle(description_…"
      ]
     },
     "metadata": {
      "tags": []
     },
     "output_type": "display_data"
    },
    {
     "name": "stdout",
     "output_type": "stream",
     "text": [
      "\n"
     ]
    },
    {
     "data": {
      "application/vnd.jupyter.widget-view+json": {
       "model_id": "9990776008f54f48a6eb546a917db48d",
       "version_major": 2,
       "version_minor": 0
      },
      "text/plain": [
       "HBox(children=(FloatProgress(value=0.0, description='Downloading', max=1520029114.0, style=ProgressStyle(descr…"
      ]
     },
     "metadata": {
      "tags": []
     },
     "output_type": "display_data"
    },
    {
     "name": "stdout",
     "output_type": "stream",
     "text": [
      "\n"
     ]
    },
    {
     "data": {
      "application/vnd.jupyter.widget-view+json": {
       "model_id": "b4bed3afc46040e1ba314045fef0caa3",
       "version_major": 2,
       "version_minor": 0
      },
      "text/plain": [
       "HBox(children=(FloatProgress(value=0.0, description='Downloading', max=1042301.0, style=ProgressStyle(descript…"
      ]
     },
     "metadata": {
      "tags": []
     },
     "output_type": "display_data"
    },
    {
     "name": "stdout",
     "output_type": "stream",
     "text": [
      "\n"
     ]
    },
    {
     "data": {
      "application/vnd.jupyter.widget-view+json": {
       "model_id": "6c71ca5cd6314655891ab5a87f2fff4c",
       "version_major": 2,
       "version_minor": 0
      },
      "text/plain": [
       "HBox(children=(FloatProgress(value=0.0, description='Downloading', max=456318.0, style=ProgressStyle(descripti…"
      ]
     },
     "metadata": {
      "tags": []
     },
     "output_type": "display_data"
    },
    {
     "name": "stdout",
     "output_type": "stream",
     "text": [
      "\n"
     ]
    },
    {
     "data": {
      "application/vnd.jupyter.widget-view+json": {
       "model_id": "bfa1c669d7ea4995ad332b8710334d15",
       "version_major": 2,
       "version_minor": 0
      },
      "text/plain": [
       "HBox(children=(FloatProgress(value=0.0, description='Downloading', max=31.0, style=ProgressStyle(description_w…"
      ]
     },
     "metadata": {
      "tags": []
     },
     "output_type": "display_data"
    },
    {
     "name": "stdout",
     "output_type": "stream",
     "text": [
      "\n"
     ]
    },
    {
     "name": "stderr",
     "output_type": "stream",
     "text": [
      "\u001b[1;32mInitializing the chatbot...\u001b[0m\n",
      "\u001b[1;32mRunning the chatbot...\u001b[0m\n",
      "\u001b[1;36m447924619 - User >>> What are your thoughts on artificial intelligence?\u001b[0m\n",
      "\u001b[1;36m447924619 - Bot >>> Not OP, but I think it is good. I think the problem with AI is that it is too complex and not sufficient to do well in the real world.\u001b[0m\n",
      "\u001b[1;36m447924619 - User >>> I think AI can do well in real world, just think of face recognition.\u001b[0m\n",
      "\u001b[1;36m447924619 - Bot >>> We are moving towards a lot more complex AI's.\u001b[0m\n",
      "\u001b[1;36m447924619 - User >>> This is true. Will we ever achieve singularity?\u001b[0m\n",
      "\u001b[1;36m447924619 - Bot >>> As a matter of fact, the singularity is just a single point of the universe coming to a point.\u001b[0m\n",
      "\u001b[1;36m447924619 - User >>> I’m talking in the context of AI.\u001b[0m\n",
      "\u001b[1;36m447924619 - Bot >>> I propose a singularity on a single point of the universe.\u001b[0m\n",
      "\u001b[1;36m447924619 - User >>> Thanks for your input.\u001b[0m\n",
      "\u001b[1;36m447924619 - Bot >>> I propose a singularity on each point of the universe.\u001b[0m\n",
      "\u001b[1;36m447924619 - User >>> Thanks.\u001b[0m\n",
      "\u001b[1;36m447924619 - Bot >>> I propose a singularity on all points of the universe.no exceptions.\u001b[0m\n",
      "\u001b[1;36m447924619 - User >>> Hello\u001b[0m\n",
      "\u001b[1;36m447924619 - Bot >>> Hey its me ur brother\u001b[0m\n",
      "\u001b[1;36m447924619 - User >>> How are you bro?\u001b[0m\n",
      "\u001b[1;36m447924619 - Bot >>> Im fine\u001b[0m\n",
      "\u001b[1;36m447924619 - User >>> Where have you been?\u001b[0m\n",
      "\u001b[1;36m447924619 - Bot >>> I am not sure, but I have been in the same place I was in the past 10 years, on the moon, trying to find a new home\u001b[0m\n",
      "\u001b[1;36m447924619 - User >>> Elon, is that you?\u001b[0m\n",
      "\u001b[1;36m447924619 - Bot >>> You're talking to a lot of people, I like it\u001b[0m\n",
      "\u001b[1;36m447924619 - User >>> How is the moon doing?\u001b[0m\n",
      "\u001b[1;36m447924619 - Bot >>> It's great, it's a great place to live. It's also a great place to get high.\u001b[0m\n",
      "\u001b[1;36m447924619 - User >>> How you came to the moon?\u001b[0m\n",
      "\u001b[1;36m447924619 - Bot >>> I was thrown out of the rocket, and I came back to Earth, and then I got thrown into the sun.\u001b[0m\n",
      "\u001b[1;36m447924619 - User >>> Nice journey bro\u001b[0m\n",
      "\u001b[1;36m447924619 - Bot >>> Thanks, man. I really like being able to go through the solar system, and not have all the bad stuff that comes with it.\u001b[0m\n",
      "\u001b[1;36m447924619 - User >>> You’re a legend.\u001b[0m\n",
      "\u001b[1;36m447924619 - Bot >>> It's a pleasure to be a part of the solar system\u001b[0m\n"
     ]
    }
   ],
   "source": [
    "from gpt2bot.telegram_bot import TelegramBot\n",
    "\n",
    "TelegramBot(**config).run_bot()"
   ]
  },
  {
   "cell_type": "markdown",
   "metadata": {
    "id": "fBSolNDhsqrX"
   },
   "source": [
    "Go to your bot's Telegram channel, type /start and start conversation with the bot."
   ]
  },
  {
   "cell_type": "code",
   "execution_count": null,
   "metadata": {
    "id": "3ULFoe0ljNbk"
   },
   "outputs": [],
   "source": []
  }
 ],
 "metadata": {
  "accelerator": "GPU",
  "colab": {
   "collapsed_sections": [],
   "name": "Demo.ipynb",
   "provenance": []
  },
  "kernelspec": {
   "display_name": "Python 3",
   "language": "python",
   "name": "python3"
  },
  "language_info": {
   "codemirror_mode": {
    "name": "ipython",
    "version": 3
   },
   "file_extension": ".py",
   "mimetype": "text/x-python",
   "name": "python",
   "nbconvert_exporter": "python",
   "pygments_lexer": "ipython3",
   "version": "3.7.3"
  },
  "widgets": {
   "application/vnd.jupyter.widget-state+json": {
    "state": {},
    "version_major": 2,
    "version_minor": 0
   }
  }
 },
 "nbformat": 4,
 "nbformat_minor": 4
}
